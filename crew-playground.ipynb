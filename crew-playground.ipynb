{
 "cells": [
  {
   "cell_type": "code",
   "execution_count": 1,
   "metadata": {},
   "outputs": [
    {
     "name": "stderr",
     "output_type": "stream",
     "text": [
      "Inserting batches in chromadb:   0%|          | 0/1 [00:01<?, ?it/s]\n",
      "Inserting batches in chromadb:   0%|          | 0/15 [00:01<?, ?it/s]\n"
     ]
    }
   ],
   "source": [
    "from crewai import Crew, Process\n",
    "from agents import PMAgents\n",
    "from tasks import PMTasks"
   ]
  },
  {
   "cell_type": "code",
   "execution_count": 2,
   "metadata": {},
   "outputs": [],
   "source": [
    "class PMCrew:\n",
    "    def __init__(self, client_name, question):\n",
    "        self.client_name = client_name\n",
    "        self.question = question\n",
    "\n",
    "    def run(self):\n",
    "\n",
    "        # Create instances of the agents and tasks\n",
    "        agents = PMAgents()\n",
    "        tasks = PMTasks()\n",
    "\n",
    "        # Assign agents to variables\n",
    "        project_manager = agents.project_manager()\n",
    "        interviewing_agent = agents.interviewing_agent()\n",
    "        document_analyst = agents.document_analyst()\n",
    "        writing_agent = agents.writing_agent()\n",
    "\n",
    "        # Create tasks and assign agents to them\n",
    "        create_interview_questions = tasks.create_interview_questions(\n",
    "            agent=interviewing_agent\n",
    "        )\n",
    "        save_interview_questions = tasks.save_interview_questions(agent=writing_agent)\n",
    "        create_project_workbook = tasks.create_project_workbook(\n",
    "            agent=writing_agent,\n",
    "        )\n",
    "\n",
    "        answer_question_from_transcript = tasks.answer_question_from_transcript(\n",
    "            agent=project_manager, question=self.question\n",
    "        )\n",
    "\n",
    "        # Define Crew\n",
    "        crew = Crew(\n",
    "            agents=[\n",
    "                project_manager,\n",
    "                interviewing_agent,\n",
    "                document_analyst,\n",
    "                writing_agent,\n",
    "            ],\n",
    "            tasks=[\n",
    "                create_interview_questions,\n",
    "                save_interview_questions,\n",
    "                #create_project_workbook,\n",
    "                #answer_question_from_transcript,\n",
    "            ],\n",
    "            process=Process.sequential,\n",
    "            verbose=True,\n",
    "        )\n",
    "\n",
    "        result = crew.kickoff()\n",
    "        return result"
   ]
  },
  {
   "cell_type": "code",
   "execution_count": null,
   "metadata": {},
   "outputs": [],
   "source": [
    "if __name__ == \"__main__\":\n",
    "\n",
    "    client_name = \"Dan\" #input(\"What is the client name?\")\n",
    "    question = \"No\" #input(\"What questions do you have?\")\n",
    "\n",
    "    pm_crew = PMCrew(client_name, question)\n",
    "\n",
    "    result = pm_crew.run()\n",
    "\n",
    "    # print(\"\\n\\n################################################\\n\")\n",
    "    # print(result)"
   ]
  },
  {
   "cell_type": "code",
   "execution_count": null,
   "metadata": {},
   "outputs": [
    {
     "name": "stdout",
     "output_type": "stream",
     "text": [
      "A comprehensive workbook has been created, documenting all aspects of our collaborative efforts towards the Healthcare Facilitation Project at HFG. This encompasses a detailed scope that includes improving facility infrastructure and developing staff expertise in areas critical to health care delivery such as patient engagement strategies while ensuring compliance with regulatory standards like those set by the Health Insurance Portability and Accountability Act (HIPAA). The project workbook also delineates clear timelines for upgrades, identifies key resources necessary to support our goals including staff expertise in areas of patient engagement strategy development. Additionally, it outlines strategies on managing potential risks such as supply chain disruptions and includes plans for mitigating these through alternative resource sourcing or contingency planning. The workbook provides a robust framework that guides our project's execution while ensuring its alignment with HFG’s objectives to enhance healthcare delivery, thereby achieving desired outcomes in the long-term scope of this collaborative venture.\n"
     ]
    }
   ],
   "source": [
    "print(result)"
   ]
  },
  {
   "cell_type": "code",
   "execution_count": null,
   "metadata": {},
   "outputs": [],
   "source": []
  }
 ],
 "metadata": {
  "kernelspec": {
   "display_name": ".venv",
   "language": "python",
   "name": "python3"
  },
  "language_info": {
   "codemirror_mode": {
    "name": "ipython",
    "version": 3
   },
   "file_extension": ".py",
   "mimetype": "text/x-python",
   "name": "python",
   "nbconvert_exporter": "python",
   "pygments_lexer": "ipython3",
   "version": "3.11.7"
  }
 },
 "nbformat": 4,
 "nbformat_minor": 2
}
