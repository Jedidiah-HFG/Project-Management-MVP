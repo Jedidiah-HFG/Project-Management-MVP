{
 "cells": [
  {
   "cell_type": "code",
   "execution_count": null,
   "metadata": {},
   "outputs": [],
   "source": [
    "#OPENAI_API_KEY=sk-svcacct-qauiZfd5hR2BQ5rSTY8yT3BlbkFJvaLmXNw3EwBfdmRpdWst\n",
    "NOTION_API_KEY=\"secret_wsx3kzoyx5oIt0TBFsnIMgLvdgMNNDW0cNu7tu0WQjE\"\n",
    "\n",
    "OPENAI_API_KEY='NA'\n"
   ]
  },
  {
   "cell_type": "code",
   "execution_count": 1,
   "metadata": {},
   "outputs": [],
   "source": [
    "from notion import NotionAPI"
   ]
  },
  {
   "cell_type": "code",
   "execution_count": 2,
   "metadata": {},
   "outputs": [],
   "source": [
    "interviewing_question = [\n",
    "    \"Can you tell us more about your goals and objectives for this project?\",\n",
    "    \"What are the key challenges you're facing, and how do you think this project can help address them?\",\n",
    "    \"How do you envision this project contributing to your overall business strategy?\",\n",
    "]"
   ]
  },
  {
   "cell_type": "code",
   "execution_count": 3,
   "metadata": {},
   "outputs": [],
   "source": [
    "notion_api = NotionAPI(client_id=\"Dan Roberts\")"
   ]
  },
  {
   "cell_type": "code",
   "execution_count": 4,
   "metadata": {},
   "outputs": [
    {
     "name": "stdout",
     "output_type": "stream",
     "text": [
      "Successfully updated the block children in Notion\n"
     ]
    }
   ],
   "source": [
    "children_body = notion_api.generate_interview_questions_body(questions=interviewing_question)\n",
    "\n",
    "notion_api.add_content_to_page(children=children_body)"
   ]
  },
  {
   "cell_type": "code",
   "execution_count": null,
   "metadata": {},
   "outputs": [],
   "source": []
  },
  {
   "cell_type": "code",
   "execution_count": null,
   "metadata": {},
   "outputs": [],
   "source": []
  },
  {
   "cell_type": "code",
   "execution_count": null,
   "metadata": {},
   "outputs": [],
   "source": []
  }
 ],
 "metadata": {
  "kernelspec": {
   "display_name": ".venv",
   "language": "python",
   "name": "python3"
  },
  "language_info": {
   "codemirror_mode": {
    "name": "ipython",
    "version": 3
   },
   "file_extension": ".py",
   "mimetype": "text/x-python",
   "name": "python",
   "nbconvert_exporter": "python",
   "pygments_lexer": "ipython3",
   "version": "3.11.8"
  }
 },
 "nbformat": 4,
 "nbformat_minor": 2
}
