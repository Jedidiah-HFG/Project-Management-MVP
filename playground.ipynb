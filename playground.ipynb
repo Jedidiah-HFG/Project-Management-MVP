{
 "cells": [
  {
   "cell_type": "code",
   "execution_count": 1,
   "metadata": {},
   "outputs": [],
   "source": [
    "from notion import Notion"
   ]
  },
  {
   "cell_type": "code",
   "execution_count": 2,
   "metadata": {},
   "outputs": [],
   "source": [
    "notion = Notion(\"Dan Roberts\")"
   ]
  },
  {
   "cell_type": "code",
   "execution_count": 3,
   "metadata": {},
   "outputs": [],
   "source": [
    "workbook_contents = {\n",
    "    \"description\": \"The contents of the project workbook. The keys represent the elements of the workbook, and the values are the details of the elements\",\n",
    "    \"title\": \"Project Workbook for Surgical Services and Supply Chain Management Improvement\",\n",
    "    \"type\": \"object\",\n",
    "    \"Project Description\": \"The project aims to enhance supply chain management and surgical services at UCLA Ronald Reagan Medical Center. The focus will be on streamlining processes related to the tracking and management of surgical instruments, improving communication protocols among staff, and strengthening auditing processes to ensure operational efficiency and patient safety.\",\n",
    "    \"Key Deliverables\": [\n",
    "        \"Improved instrument tracking system.\",\n",
    "        \"Enhanced communication protocols among surgical services staff.\",\n",
    "        \"Strengthened auditing processes to ensure compliance and efficiency.\",\n",
    "    ],\n",
    "    \"High-Level Risks\": [\n",
    "        \"Personnel shortages impacting the implementation of new systems.\",\n",
    "        \"Potential communication failures during the transition to new processes.\",\n",
    "        \"Inefficiencies in the existing supply chain management that could hinder project progress.\",\n",
    "    ],\n",
    "    \"High-Level Milestones\": [\n",
    "        \"Completion of current state analysis by [insert date].\",\n",
    "        \"Implementation of new tracking technologies by [insert date].\",\n",
    "        \"Establishment of communication frameworks by [insert date].\",\n",
    "    ],\n",
    "    \"Budget Summary\": \"Budget to be determined based on the business case developed by the project team, which will outline the financial requirements for implementing the proposed improvements.\",\n",
    "    \"Stakeholders\": [\n",
    "        \"Dr. Dan Roberts (COO, UCLA Medical Center)\",\n",
    "        \"Surgical Services Team\",\n",
    "        \"Project Management Division at UCLA Health System\",\n",
    "    ],\n",
    "    \"Project Plan Version\": \"Initial draft based on the meeting transcript with Dr. Dan Roberts.\",\n",
    "    \"Approval Date\": \"TBD.\",\n",
    "    \"Subsidiary Plans Included\": [\"Risk Management Plan\", \"Communication Plan\"],\n",
    "    \"Current State of Strategy\": \"The current strategy focuses on enhancing operational efficiency and improving patient safety through better management of resources and processes.\",\n",
    "    \"Current State of People\": \"Total: 320 FTEs in surgical services. Identified need for specialized training programs to address gaps in skills and knowledge.\",\n",
    "    \"Current State of Products\": \"Surgical instruments require improved tracking and management practices to ensure availability and compliance.\",\n",
    "    \"Current State of Processes\": \"Existing workflows are identified as inefficient, highlighting the need for enhanced auditing and communication processes to streamline operations.\",\n",
    "    \"Scope Management Approach\": \"The project will focus exclusively on surgical services at UCLA Ronald Reagan Medical Center, excluding outpatient facilities and non-surgical services.\",\n",
    "    \"Scope Statement\": \"The project aims to improve supply chain management related to surgical instruments and enhance operational efficiency within surgical services.\",\n",
    "    \"Scope Validation\": \"Scope validation will be conducted through regular audits and performance metrics to assess the effectiveness of implemented changes.\",\n",
    "    \"Scope Control\": \"Regular updates and reviews will be held with stakeholders to ensure the project remains on track and within defined parameters.\",\n",
    "    \"Detailed Scope Description\": \"The project will specifically focus on the 32 operating rooms at UCLA Ronald Reagan Medical Center, addressing the unique challenges and requirements of these facilities.\",\n",
    "    \"Deliverables\": [\n",
    "        \"Improved tracking of surgical instruments.\",\n",
    "        \"Better communication protocols amongst staff.\",\n",
    "        \"Enhanced auditing practices to ensure compliance and efficiency.\",\n",
    "    ],\n",
    "    \"Exclusions\": \"Outpatient surgical centers and non-surgical services are excluded from the scope of this project.\",\n",
    "    \"Constraints\": [\n",
    "        \"Budget limitations that may restrict project scope and resources.\",\n",
    "        \"Staffing challenges that could impact project implementation timelines.\",\n",
    "    ],\n",
    "    \"Assumptions\": \"The project assumes full cooperation and engagement from surgical teams and other stakeholders throughout the implementation process.\",\n",
    "    \"Key Milestones\": [\n",
    "        \"Initial analysis completion by [insert date].\",\n",
    "        \"Technology implementation by [insert date].\",\n",
    "        \"Training completion for staff by [insert date].\",\n",
    "    ],\n",
    "}\n",
    "\n",
    "#workbook_contents"
   ]
  },
  {
   "cell_type": "code",
   "execution_count": 4,
   "metadata": {},
   "outputs": [
    {
     "name": "stdout",
     "output_type": "stream",
     "text": [
      "Block is archived or doesn't exist. Attempting to create a new block.\n",
      "Successfully created a new page in Notion\n",
      "Successfully updated json data for Dan Roberts\n",
      "Successfully updated page in Notion (batch 1)\n",
      "Successfully updated page in Notion (batch 2)\n"
     ]
    }
   ],
   "source": [
    "notion.update_project_workbook(workbook_contents=workbook_contents)\n"
   ]
  }
 ],
 "metadata": {
  "kernelspec": {
   "display_name": ".venv",
   "language": "python",
   "name": "python3"
  },
  "language_info": {
   "codemirror_mode": {
    "name": "ipython",
    "version": 3
   },
   "file_extension": ".py",
   "mimetype": "text/x-python",
   "name": "python",
   "nbconvert_exporter": "python",
   "pygments_lexer": "ipython3",
   "version": "3.11.8"
  }
 },
 "nbformat": 4,
 "nbformat_minor": 2
}
