{
 "cells": [
  {
   "cell_type": "code",
   "execution_count": 1,
   "metadata": {},
   "outputs": [],
   "source": [
    "from notion import NotionAPI"
   ]
  },
  {
   "cell_type": "code",
   "execution_count": 2,
   "metadata": {},
   "outputs": [],
   "source": [
    "interviewing_question = [\n",
    "    \"Can you tell us more about your goals and objectives for this project?\",\n",
    "    \"What are the key challenges you're facing, and how do you think this project can help address them?\",\n",
    "    \"How do you envision this project contributing to your overall business strategy?\",\n",
    "    \"What specific deliverables or outcomes are you expecting from this project?\",\n",
    "    \"Who are the key stakeholders involved in this project, and what are their roles?\",\n",
    "    \"What is your timeline for this project, and are there any critical deadlines we should be aware of?\",\n",
    "    \"Are there any constraints or limitations (budget, technology, regulatory) we should consider?\",\n",
    "    \"Can you describe the current situation or problem that led you to seek our services?\",\n",
    "    \"How will you measure the success of this project?\",\n",
    "    \"What potential obstacles or risks do you foresee that might impact the project's success?\",\n",
    "    \"How does this project align with your company's long-term strategic goals?\",\n",
    "]"
   ]
  },
  {
   "cell_type": "code",
   "execution_count": 3,
   "metadata": {},
   "outputs": [
    {
     "name": "stdout",
     "output_type": "stream",
     "text": [
      "Successfully created the page in Notion\n",
      "Updated data for client Dan Roberts saved successfully.\n"
     ]
    }
   ],
   "source": [
    "notion_api = NotionAPI(client_id=\"Dan Roberts\")"
   ]
  },
  {
   "cell_type": "code",
   "execution_count": 4,
   "metadata": {},
   "outputs": [
    {
     "name": "stdout",
     "output_type": "stream",
     "text": [
      "Successfully updated the block children in Notion\n"
     ]
    }
   ],
   "source": [
    "# Generate interview questions body\n",
    "interview_questions_body = notion_api.generate_interview_questions_body(questions=interviewing_question)\n",
    "# Add interview_questions_body to notion\n",
    "notion_api.add_content_to_page(children=interview_questions_body)"
   ]
  },
  {
   "cell_type": "code",
   "execution_count": 5,
   "metadata": {},
   "outputs": [
    {
     "name": "stdout",
     "output_type": "stream",
     "text": [
      "Failed to update the block children. Status code: 400\n",
      "{\"object\":\"error\",\"status\":400,\"code\":\"validation_error\",\"message\":\"body failed validation. Fix one:\\nbody.children[1].embed should be defined, instead was `undefined`.\\nbody.children[1].bookmark should be defined, instead was `undefined`.\\nbody.children[1].image should be defined, instead was `undefined`.\\nbody.children[1].video should be defined, instead was `undefined`.\\nbody.children[1].pdf should be defined, instead was `undefined`.\\nbody.children[1].file should be defined, instead was `undefined`.\\nbody.children[1].audio should be defined, instead was `undefined`.\\nbody.children[1].code should be defined, instead was `undefined`.\\nbody.children[1].equation should be defined, instead was `undefined`.\\nbody.children[1].divider should be defined, instead was `undefined`.\\nbody.children[1].breadcrumb should be defined, instead was `undefined`.\\nbody.children[1].table_of_contents should be defined, instead was `undefined`.\\nbody.children[1].link_to_page should be defined, instead was `undefined`.\\nbody.children[1].table_row should be defined, instead was `undefined`.\\nbody.children[1].ai_block should be defined, instead was `undefined`.\\nbody.children[1].table should be defined, instead was `undefined`.\\nbody.children[1].column_list should be defined, instead was `undefined`.\\nbody.children[1].column should be defined, instead was `undefined`.\\nbody.children[1].heading_1 should be defined, instead was `undefined`.\\nbody.children[1].type should be `\\\"heading_2\\\"` or `undefined`, instead was `\\\"heading_3\\\"`.\\nbody.children[1].heading_3 should be defined, instead was `undefined`.\\nbody.children[1].paragraph should be defined, instead was `undefined`.\\nbody.children[1].bulleted_list_item should be defined, instead was `undefined`.\\nbody.children[1].numbered_list_item should be defined, instead was `undefined`.\\nbody.children[1].quote should be defined, instead was `undefined`.\\nbody.children[1].to_do should be defined, instead was `undefined`.\\nbody.children[1].toggle should be defined, instead was `undefined`.\\nbody.children[1].template should be defined, instead was `undefined`.\\nbody.children[1].callout should be defined, instead was `undefined`.\\nbody.children[1].synced_block should be defined, instead was `undefined`.\",\"request_id\":\"c95a539b-9422-4fbb-93fb-bcdb04122e96\"}\n"
     ]
    }
   ],
   "source": [
    "# Generate project workbook body\n",
    "project_workbook_body = notion_api.generate_project_workbook_body()\n",
    "# Add interview_questions_body to notion\n",
    "notion_api.add_content_to_page(children=project_workbook_body)"
   ]
  },
  {
   "cell_type": "code",
   "execution_count": null,
   "metadata": {},
   "outputs": [],
   "source": []
  },
  {
   "cell_type": "code",
   "execution_count": null,
   "metadata": {},
   "outputs": [],
   "source": []
  }
 ],
 "metadata": {
  "kernelspec": {
   "display_name": ".venv",
   "language": "python",
   "name": "python3"
  },
  "language_info": {
   "codemirror_mode": {
    "name": "ipython",
    "version": 3
   },
   "file_extension": ".py",
   "mimetype": "text/x-python",
   "name": "python",
   "nbconvert_exporter": "python",
   "pygments_lexer": "ipython3",
   "version": "3.11.7"
  }
 },
 "nbformat": 4,
 "nbformat_minor": 2
}
