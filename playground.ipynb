{
 "cells": [
  {
   "cell_type": "code",
   "execution_count": 1,
   "metadata": {},
   "outputs": [],
   "source": [
    "import json\n",
    "from notion import NotionAPI"
   ]
  },
  {
   "cell_type": "code",
   "execution_count": 2,
   "metadata": {},
   "outputs": [
    {
     "name": "stdout",
     "output_type": "stream",
     "text": [
      "Successfully created the page in Notion\n",
      "Updated data for client Dan Roberts saved successfully.\n"
     ]
    }
   ],
   "source": [
    "with open(\"sample_data.json\", \"r\") as f:\n",
    "    sample_data = json.load(f)\n",
    "\n",
    "notion_api = NotionAPI(client_id=\"Dan Roberts\")"
   ]
  },
  {
   "cell_type": "code",
   "execution_count": 3,
   "metadata": {},
   "outputs": [
    {
     "name": "stdout",
     "output_type": "stream",
     "text": [
      "Successfully updated the block children in Notion\n"
     ]
    }
   ],
   "source": [
    "# Generate interview questions body\n",
    "interview_questions_body = notion_api.generate_interview_questions_body(\n",
    "    questions=sample_data[\"interview_question\"]\n",
    ")\n",
    "# Add interview_questions_body to notion\n",
    "notion_api.add_content_to_page(children=interview_questions_body)"
   ]
  },
  {
   "cell_type": "code",
   "execution_count": 4,
   "metadata": {},
   "outputs": [
    {
     "name": "stdout",
     "output_type": "stream",
     "text": [
      "Successfully updated the block children in Notion\n"
     ]
    }
   ],
   "source": [
    "del sample_data['interview_question']\n",
    "\n",
    "# Generate project workbook body\n",
    "project_workbook_body = notion_api.generate_project_workbook_body(\n",
    "    sample_data\n",
    ")\n",
    "# Add interview_questions_body to notion\n",
    "notion_api.add_content_to_page(children=project_workbook_body)"
   ]
  },
  {
   "cell_type": "code",
   "execution_count": null,
   "metadata": {},
   "outputs": [],
   "source": []
  },
  {
   "cell_type": "code",
   "execution_count": null,
   "metadata": {},
   "outputs": [],
   "source": []
  },
  {
   "cell_type": "code",
   "execution_count": null,
   "metadata": {},
   "outputs": [],
   "source": []
  }
 ],
 "metadata": {
  "kernelspec": {
   "display_name": ".venv",
   "language": "python",
   "name": "python3"
  },
  "language_info": {
   "codemirror_mode": {
    "name": "ipython",
    "version": 3
   },
   "file_extension": ".py",
   "mimetype": "text/x-python",
   "name": "python",
   "nbconvert_exporter": "python",
   "pygments_lexer": "ipython3",
   "version": "3.11.8"
  }
 },
 "nbformat": 4,
 "nbformat_minor": 2
}
